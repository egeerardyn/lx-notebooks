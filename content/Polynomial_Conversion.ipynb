{
 "cells": [
  {
   "cell_type": "markdown",
   "metadata": {},
   "source": [
    "# Polynomial correction in the NIMO software\n",
    "\n",
    "Power correction is presented as a 4th order polynomial. \n",
    "This document aims at defining the coefficients to be introduced. "
   ]
  },
  {
   "cell_type": "code",
   "execution_count": null,
   "metadata": {},
   "outputs": [],
   "source": [
    "import numpy as np\n",
    "from scipy.optimize import curve_fit\n",
    "import matplotlib.pyplot as plt"
   ]
  },
  {
   "cell_type": "markdown",
   "metadata": {},
   "source": [
    "Enter the values of measured power below in the format of an array. For example `[Value1, Value2, Value3, Value4,Value5]` if there are 5 values to be accounted for in the correction curve\n",
    "\n",
    "Below is an example with 8 values. Replace this example with your values. "
   ]
  },
  {
   "cell_type": "code",
   "execution_count": null,
   "metadata": {},
   "outputs": [],
   "source": [
    "Measured_Power = [-8.252, -7.562, -6.32, -4.251, -3.59, -2.546, -1.112, 1.523, 2.265, 3.153, 4.102]"
   ]
  },
  {
   "cell_type": "markdown",
   "metadata": {},
   "source": [
    "Repeat the same input with the target power values, using the same format. \n",
    "\n",
    "Note that the target values array must have the same length as the measured values array"
   ]
  },
  {
   "cell_type": "code",
   "execution_count": null,
   "metadata": {},
   "outputs": [],
   "source": [
    "Target_Power = [-8.40, -7.70, -6.40, -4.20, -3.40, -2.60, -1.20, 1.40, 2.30, 3.25, 4.12]"
   ]
  },
  {
   "cell_type": "code",
   "execution_count": null,
   "metadata": {},
   "outputs": [],
   "source": [
    "Diff = np.subtract(Measured_Power, Target_Power)\n",
    "\n",
    "def Poly(x, a0, a1, a2, a3, a4):\n",
    "    return a0 + a1*x+ a2*x*x + a3*x*x*x + a4*x*x*x*x\n",
    "\n",
    "popt, _ = curve_fit(Poly, Measured_Power, Diff)\n",
    "\n",
    "print(\"a0 Value: \", popt[0])\n",
    "print(\"a1 Value: \", popt[1])\n",
    "print(\"a2 Value: \", popt[2])\n",
    "print(\"a3 Value: \", popt[3])\n",
    "print(\"a4 Value: \", popt[4])\n"
   ]
  },
  {
   "cell_type": "markdown",
   "metadata": {},
   "source": [
    "Above values are to be introduced as such in the CLE-Mentor software"
   ]
  },
  {
   "cell_type": "code",
   "execution_count": null,
   "metadata": {},
   "outputs": [],
   "source": [
    "plt.scatter(Measured_Power, Diff)\n",
    "\n",
    "x_axis = np.linspace(np.floor(np.amin(Measured_Power)), np.ceil(np.amax(Measured_Power)), 100)\n",
    "fitted = Poly(x_axis, popt[0], popt[1], popt[2], popt[3], popt[4])\n",
    "\n",
    "\n",
    "plt.plot(x_axis, fitted, color = 'red', label=\"Fitted curve\")\n",
    "plt.xlabel(\"Measured Power [D]\")\n",
    "plt.ylabel(\"Difference (Measured - Target) [D]\")\n",
    "plt.show()"
   ]
  },
  {
   "cell_type": "markdown",
   "metadata": {},
   "source": [
    "Above chart is the difference between measured and target values (blue dots) together with the fit of the correction (red line)"
   ]
  },
  {
   "cell_type": "code",
   "execution_count": null,
   "metadata": {},
   "outputs": [],
   "source": []
  }
 ],
 "metadata": {
  "kernelspec": {
   "display_name": "Python 3",
   "language": "python",
   "name": "python3"
  },
  "language_info": {
   "codemirror_mode": {
    "name": "ipython",
    "version": 3
   },
   "file_extension": ".py",
   "mimetype": "text/x-python",
   "name": "python",
   "nbconvert_exporter": "python",
   "pygments_lexer": "ipython3",
   "version": "3.12.5"
  }
 },
 "nbformat": 4,
 "nbformat_minor": 2
}
